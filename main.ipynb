{
 "cells": [
  {
   "cell_type": "code",
   "execution_count": 34,
   "metadata": {},
   "outputs": [],
   "source": [
    "#Importing necessary libraries\n",
    "import pandas as pd\n",
    "import numpy as np\n",
    "import matplotlib.pyplot as plt\n",
    "import seaborn as sns"
   ]
  },
  {
   "cell_type": "code",
   "execution_count": 4,
   "metadata": {},
   "outputs": [],
   "source": [
    "file1=pd.read_csv(\"ResaleFlatPricesBasedonApprovalDate19901999.csv\")\n",
    "file2=pd.read_csv(\"ResaleFlatPricesBasedonApprovalDate2000Feb2012.csv\")\n",
    "file3=pd.read_csv(\"ResaleFlatPricesBasedonRegistrationDateFromMar2012toDec2014.csv\")\n",
    "file4=pd.read_csv(\"ResaleFlatPricesBasedonRegistrationDateFromJan2015toDec2016.csv\")\n",
    "file5=pd.read_csv(\"ResaleflatpricesbasedonregistrationdatefromJan2017onwards.csv\")"
   ]
  },
  {
   "cell_type": "code",
   "execution_count": 26,
   "metadata": {},
   "outputs": [],
   "source": [
    "#Concatenating all files into single data frame\n",
    "df=pd.concat([file1,file2,file3,file4,file5],axis=0,ignore_index=True)"
   ]
  },
  {
   "cell_type": "code",
   "execution_count": 6,
   "metadata": {},
   "outputs": [
    {
     "data": {
      "text/html": [
       "<div>\n",
       "<style scoped>\n",
       "    .dataframe tbody tr th:only-of-type {\n",
       "        vertical-align: middle;\n",
       "    }\n",
       "\n",
       "    .dataframe tbody tr th {\n",
       "        vertical-align: top;\n",
       "    }\n",
       "\n",
       "    .dataframe thead th {\n",
       "        text-align: right;\n",
       "    }\n",
       "</style>\n",
       "<table border=\"1\" class=\"dataframe\">\n",
       "  <thead>\n",
       "    <tr style=\"text-align: right;\">\n",
       "      <th></th>\n",
       "      <th>month</th>\n",
       "      <th>town</th>\n",
       "      <th>flat_type</th>\n",
       "      <th>block</th>\n",
       "      <th>street_name</th>\n",
       "      <th>storey_range</th>\n",
       "      <th>floor_area_sqm</th>\n",
       "      <th>flat_model</th>\n",
       "      <th>lease_commence_date</th>\n",
       "      <th>resale_price</th>\n",
       "      <th>remaining_lease</th>\n",
       "    </tr>\n",
       "  </thead>\n",
       "  <tbody>\n",
       "    <tr>\n",
       "      <th>0</th>\n",
       "      <td>1990-01</td>\n",
       "      <td>ANG MO KIO</td>\n",
       "      <td>1 ROOM</td>\n",
       "      <td>309</td>\n",
       "      <td>ANG MO KIO AVE 1</td>\n",
       "      <td>10 TO 12</td>\n",
       "      <td>31.0</td>\n",
       "      <td>IMPROVED</td>\n",
       "      <td>1977</td>\n",
       "      <td>9000.0</td>\n",
       "      <td>NaN</td>\n",
       "    </tr>\n",
       "    <tr>\n",
       "      <th>1</th>\n",
       "      <td>1990-01</td>\n",
       "      <td>ANG MO KIO</td>\n",
       "      <td>1 ROOM</td>\n",
       "      <td>309</td>\n",
       "      <td>ANG MO KIO AVE 1</td>\n",
       "      <td>04 TO 06</td>\n",
       "      <td>31.0</td>\n",
       "      <td>IMPROVED</td>\n",
       "      <td>1977</td>\n",
       "      <td>6000.0</td>\n",
       "      <td>NaN</td>\n",
       "    </tr>\n",
       "    <tr>\n",
       "      <th>2</th>\n",
       "      <td>1990-01</td>\n",
       "      <td>ANG MO KIO</td>\n",
       "      <td>1 ROOM</td>\n",
       "      <td>309</td>\n",
       "      <td>ANG MO KIO AVE 1</td>\n",
       "      <td>10 TO 12</td>\n",
       "      <td>31.0</td>\n",
       "      <td>IMPROVED</td>\n",
       "      <td>1977</td>\n",
       "      <td>8000.0</td>\n",
       "      <td>NaN</td>\n",
       "    </tr>\n",
       "    <tr>\n",
       "      <th>3</th>\n",
       "      <td>1990-01</td>\n",
       "      <td>ANG MO KIO</td>\n",
       "      <td>1 ROOM</td>\n",
       "      <td>309</td>\n",
       "      <td>ANG MO KIO AVE 1</td>\n",
       "      <td>07 TO 09</td>\n",
       "      <td>31.0</td>\n",
       "      <td>IMPROVED</td>\n",
       "      <td>1977</td>\n",
       "      <td>6000.0</td>\n",
       "      <td>NaN</td>\n",
       "    </tr>\n",
       "    <tr>\n",
       "      <th>4</th>\n",
       "      <td>1990-01</td>\n",
       "      <td>ANG MO KIO</td>\n",
       "      <td>3 ROOM</td>\n",
       "      <td>216</td>\n",
       "      <td>ANG MO KIO AVE 1</td>\n",
       "      <td>04 TO 06</td>\n",
       "      <td>73.0</td>\n",
       "      <td>NEW GENERATION</td>\n",
       "      <td>1976</td>\n",
       "      <td>47200.0</td>\n",
       "      <td>NaN</td>\n",
       "    </tr>\n",
       "  </tbody>\n",
       "</table>\n",
       "</div>"
      ],
      "text/plain": [
       "     month        town flat_type block       street_name storey_range  \\\n",
       "0  1990-01  ANG MO KIO    1 ROOM   309  ANG MO KIO AVE 1     10 TO 12   \n",
       "1  1990-01  ANG MO KIO    1 ROOM   309  ANG MO KIO AVE 1     04 TO 06   \n",
       "2  1990-01  ANG MO KIO    1 ROOM   309  ANG MO KIO AVE 1     10 TO 12   \n",
       "3  1990-01  ANG MO KIO    1 ROOM   309  ANG MO KIO AVE 1     07 TO 09   \n",
       "4  1990-01  ANG MO KIO    3 ROOM   216  ANG MO KIO AVE 1     04 TO 06   \n",
       "\n",
       "   floor_area_sqm      flat_model  lease_commence_date  resale_price  \\\n",
       "0            31.0        IMPROVED                 1977        9000.0   \n",
       "1            31.0        IMPROVED                 1977        6000.0   \n",
       "2            31.0        IMPROVED                 1977        8000.0   \n",
       "3            31.0        IMPROVED                 1977        6000.0   \n",
       "4            73.0  NEW GENERATION                 1976       47200.0   \n",
       "\n",
       "  remaining_lease  \n",
       "0             NaN  \n",
       "1             NaN  \n",
       "2             NaN  \n",
       "3             NaN  \n",
       "4             NaN  "
      ]
     },
     "execution_count": 6,
     "metadata": {},
     "output_type": "execute_result"
    }
   ],
   "source": [
    "df.head()"
   ]
  },
  {
   "cell_type": "code",
   "execution_count": 7,
   "metadata": {},
   "outputs": [
    {
     "data": {
      "text/plain": [
       "(927465, 11)"
      ]
     },
     "execution_count": 7,
     "metadata": {},
     "output_type": "execute_result"
    }
   ],
   "source": [
    "df.shape"
   ]
  },
  {
   "cell_type": "code",
   "execution_count": 8,
   "metadata": {},
   "outputs": [
    {
     "data": {
      "text/plain": [
       "Index(['month', 'town', 'flat_type', 'block', 'street_name', 'storey_range',\n",
       "       'floor_area_sqm', 'flat_model', 'lease_commence_date', 'resale_price',\n",
       "       'remaining_lease'],\n",
       "      dtype='object')"
      ]
     },
     "execution_count": 8,
     "metadata": {},
     "output_type": "execute_result"
    }
   ],
   "source": [
    "df.columns"
   ]
  },
  {
   "cell_type": "code",
   "execution_count": 9,
   "metadata": {},
   "outputs": [
    {
     "data": {
      "text/plain": [
       "month                   object\n",
       "town                    object\n",
       "flat_type               object\n",
       "block                   object\n",
       "street_name             object\n",
       "storey_range            object\n",
       "floor_area_sqm         float64\n",
       "flat_model              object\n",
       "lease_commence_date      int64\n",
       "resale_price           float64\n",
       "remaining_lease         object\n",
       "dtype: object"
      ]
     },
     "execution_count": 9,
     "metadata": {},
     "output_type": "execute_result"
    }
   ],
   "source": [
    "df.dtypes"
   ]
  },
  {
   "cell_type": "code",
   "execution_count": 10,
   "metadata": {},
   "outputs": [
    {
     "data": {
      "text/html": [
       "<div>\n",
       "<style scoped>\n",
       "    .dataframe tbody tr th:only-of-type {\n",
       "        vertical-align: middle;\n",
       "    }\n",
       "\n",
       "    .dataframe tbody tr th {\n",
       "        vertical-align: top;\n",
       "    }\n",
       "\n",
       "    .dataframe thead th {\n",
       "        text-align: right;\n",
       "    }\n",
       "</style>\n",
       "<table border=\"1\" class=\"dataframe\">\n",
       "  <thead>\n",
       "    <tr style=\"text-align: right;\">\n",
       "      <th></th>\n",
       "      <th>floor_area_sqm</th>\n",
       "      <th>lease_commence_date</th>\n",
       "      <th>resale_price</th>\n",
       "    </tr>\n",
       "  </thead>\n",
       "  <tbody>\n",
       "    <tr>\n",
       "      <th>count</th>\n",
       "      <td>927465.000000</td>\n",
       "      <td>927465.000000</td>\n",
       "      <td>9.274650e+05</td>\n",
       "    </tr>\n",
       "    <tr>\n",
       "      <th>mean</th>\n",
       "      <td>95.691236</td>\n",
       "      <td>1988.278012</td>\n",
       "      <td>3.208481e+05</td>\n",
       "    </tr>\n",
       "    <tr>\n",
       "      <th>std</th>\n",
       "      <td>25.824985</td>\n",
       "      <td>10.664813</td>\n",
       "      <td>1.705229e+05</td>\n",
       "    </tr>\n",
       "    <tr>\n",
       "      <th>min</th>\n",
       "      <td>28.000000</td>\n",
       "      <td>1966.000000</td>\n",
       "      <td>5.000000e+03</td>\n",
       "    </tr>\n",
       "    <tr>\n",
       "      <th>25%</th>\n",
       "      <td>73.000000</td>\n",
       "      <td>1981.000000</td>\n",
       "      <td>1.930000e+05</td>\n",
       "    </tr>\n",
       "    <tr>\n",
       "      <th>50%</th>\n",
       "      <td>93.000000</td>\n",
       "      <td>1986.000000</td>\n",
       "      <td>2.975000e+05</td>\n",
       "    </tr>\n",
       "    <tr>\n",
       "      <th>75%</th>\n",
       "      <td>113.000000</td>\n",
       "      <td>1996.000000</td>\n",
       "      <td>4.180000e+05</td>\n",
       "    </tr>\n",
       "    <tr>\n",
       "      <th>max</th>\n",
       "      <td>307.000000</td>\n",
       "      <td>2020.000000</td>\n",
       "      <td>1.588000e+06</td>\n",
       "    </tr>\n",
       "  </tbody>\n",
       "</table>\n",
       "</div>"
      ],
      "text/plain": [
       "       floor_area_sqm  lease_commence_date  resale_price\n",
       "count   927465.000000        927465.000000  9.274650e+05\n",
       "mean        95.691236          1988.278012  3.208481e+05\n",
       "std         25.824985            10.664813  1.705229e+05\n",
       "min         28.000000          1966.000000  5.000000e+03\n",
       "25%         73.000000          1981.000000  1.930000e+05\n",
       "50%         93.000000          1986.000000  2.975000e+05\n",
       "75%        113.000000          1996.000000  4.180000e+05\n",
       "max        307.000000          2020.000000  1.588000e+06"
      ]
     },
     "execution_count": 10,
     "metadata": {},
     "output_type": "execute_result"
    }
   ],
   "source": [
    "df.describe()"
   ]
  },
  {
   "cell_type": "code",
   "execution_count": 11,
   "metadata": {},
   "outputs": [
    {
     "data": {
      "text/plain": [
       "month                       0\n",
       "town                        0\n",
       "flat_type                   0\n",
       "block                       0\n",
       "street_name                 0\n",
       "storey_range                0\n",
       "floor_area_sqm              0\n",
       "flat_model                  0\n",
       "lease_commence_date         0\n",
       "resale_price                0\n",
       "remaining_lease        709050\n",
       "dtype: int64"
      ]
     },
     "execution_count": 11,
     "metadata": {},
     "output_type": "execute_result"
    }
   ],
   "source": [
    "df.isnull().sum()"
   ]
  },
  {
   "cell_type": "code",
   "execution_count": 13,
   "metadata": {},
   "outputs": [
    {
     "data": {
      "text/plain": [
       "array([nan, 70, 65, 64, 63, 62, 69, 60, 61, 86, 77, 80, 90, 87, 66, 58,\n",
       "       94, 71, 68, 84, 73, 79, 76, 72, 82, 74, 67, 88, 81, 89, 53, 54, 55,\n",
       "       57, 93, 83, 85, 92, 91, 59, 95, 52, 51, 56, 75, 96, 78, 50, 97, 49,\n",
       "       48, '61 years 04 months', '60 years 07 months',\n",
       "       '62 years 05 months', '62 years 01 month', '63 years',\n",
       "       '61 years 06 months', '58 years 04 months', '59 years 08 months',\n",
       "       '59 years 06 months', '60 years', '62 years 08 months', '61 years',\n",
       "       '60 years 10 months', '59 years 03 months', '61 years 05 months',\n",
       "       '60 years 04 months', '62 years', '60 years 03 months',\n",
       "       '63 years 09 months', '61 years 01 month', '61 years 10 months',\n",
       "       '58 years 06 months', '59 years 04 months', '62 years 11 months',\n",
       "       '60 years 08 months', '93 years 08 months', '93 years 07 months',\n",
       "       '60 years 01 month', '94 years 08 months', '78 years 04 months',\n",
       "       '60 years 06 months', '62 years 06 months', '58 years',\n",
       "       '70 years 08 months', '63 years 04 months', '63 years 06 months',\n",
       "       '67 years 07 months', '61 years 07 months', '68 years 02 months',\n",
       "       '68 years 03 months', '56 years', '67 years 09 months',\n",
       "       '67 years 05 months', '63 years 07 months', '66 years 03 months',\n",
       "       '65 years 04 months', '69 years 05 months', '59 years 11 months',\n",
       "       '60 years 05 months', '69 years 02 months', '69 years 03 months',\n",
       "       '68 years 10 months', '62 years 10 months', '64 years 04 months',\n",
       "       '66 years 01 month', '83 years', '83 years 01 month',\n",
       "       '87 years 11 months', '71 years 02 months', '92 years 04 months',\n",
       "       '54 years 06 months', '78 years 06 months', '82 years 11 months',\n",
       "       '75 years 04 months', '66 years 07 months', '66 years 06 months',\n",
       "       '75 years 11 months', '68 years 04 months', '55 years 09 months',\n",
       "       '68 years 07 months', '67 years 11 months', '68 years',\n",
       "       '69 years 01 month', '69 years 11 months', '74 years 06 months',\n",
       "       '74 years 04 months', '69 years 06 months', '72 years 03 months',\n",
       "       '67 years 02 months', '66 years 05 months', '69 years 04 months',\n",
       "       '66 years 11 months', '66 years 10 months', '80 years',\n",
       "       '69 years 08 months', '66 years 09 months', '67 years 10 months',\n",
       "       '80 years 01 month', '67 years 06 months', '86 years 08 months',\n",
       "       '71 years 06 months', '71 years 03 months', '67 years 04 months',\n",
       "       '86 years 11 months', '86 years 10 months', '79 years 05 months',\n",
       "       '65 years 10 months', '67 years 03 months', '79 years 11 months',\n",
       "       '53 years 06 months', '57 years 02 months', '52 years 01 month',\n",
       "       '58 years 03 months', '51 years 06 months', '58 years 08 months',\n",
       "       '56 years 02 months', '53 years 08 months', '64 years 08 months',\n",
       "       '55 years 06 months', '95 years 07 months', '55 years 01 month',\n",
       "       '55 years', '95 years 04 months', '52 years 06 months',\n",
       "       '57 years 04 months', '57 years', '82 years 06 months',\n",
       "       '67 years 08 months', '79 years', '95 years 08 months',\n",
       "       '90 years 11 months', '87 years 10 months', '82 years 08 months',\n",
       "       '68 years 06 months', '81 years 02 months', '56 years 05 months',\n",
       "       '65 years 05 months', '70 years 09 months', '71 years 01 month',\n",
       "       '94 years 10 months', '80 years 03 months', '83 years 11 months',\n",
       "       '70 years 10 months', '81 years 01 month', '70 years 06 months',\n",
       "       '85 years', '81 years 05 months', '80 years 07 months',\n",
       "       '80 years 10 months', '83 years 10 months', '86 years 09 months',\n",
       "       '79 years 09 months', '84 years 10 months', '80 years 11 months',\n",
       "       '70 years 11 months', '84 years 04 months', '83 years 09 months',\n",
       "       '81 years 04 months', '79 years 07 months', '81 years 03 months',\n",
       "       '70 years 01 month', '70 years 05 months', '70 years 07 months',\n",
       "       '56 years 03 months', '64 years', '68 years 09 months',\n",
       "       '65 years 03 months', '59 years 01 month', '61 years 02 months',\n",
       "       '62 years 04 months', '93 years', '71 years 08 months',\n",
       "       '82 years 03 months', '71 years 04 months', '75 years 05 months',\n",
       "       '85 years 01 month', '81 years 09 months', '72 years 08 months',\n",
       "       '75 years 06 months', '78 years 03 months', '82 years 01 month',\n",
       "       '84 years 03 months', '77 years 05 months', '77 years 07 months',\n",
       "       '85 years 04 months', '79 years 04 months', '78 years 09 months',\n",
       "       '81 years 06 months', '78 years', '63 years 08 months',\n",
       "       '62 years 07 months', '65 years 09 months', '60 years 02 months',\n",
       "       '88 years 10 months', '53 years', '49 years', '51 years',\n",
       "       '50 years 05 months', '54 years 11 months', '59 years 05 months',\n",
       "       '82 years 04 months', '65 years 07 months', '89 years',\n",
       "       '72 years 05 months', '78 years 05 months', '58 years 07 months',\n",
       "       '80 years 05 months', '94 years 04 months', '69 years', '65 years',\n",
       "       '65 years 02 months', '71 years 07 months', '75 years 03 months',\n",
       "       '65 years 01 month', '79 years 10 months', '73 years 04 months',\n",
       "       '72 years 04 months', '74 years 08 months', '74 years 09 months',\n",
       "       '80 years 02 months', '81 years 10 months', '86 years 05 months',\n",
       "       '85 years 06 months', '79 years 01 month', '80 years 06 months',\n",
       "       '74 years 11 months', '68 years 08 months', '68 years 05 months',\n",
       "       '48 years 09 months', '63 years 05 months', '65 years 06 months',\n",
       "       '66 years 04 months', '67 years 01 month', '95 years 09 months',\n",
       "       '80 years 09 months', '82 years 02 months', '61 years 09 months',\n",
       "       '90 years 07 months', '57 years 09 months', '54 years',\n",
       "       '53 years 05 months', '71 years', '58 years 10 months',\n",
       "       '92 years 03 months', '66 years 02 months', '64 years 03 months',\n",
       "       '72 years 02 months', '83 years 04 months', '78 years 07 months',\n",
       "       '84 years 01 month', '78 years 08 months', '72 years 10 months',\n",
       "       '71 years 11 months', '76 years', '78 years 02 months',\n",
       "       '71 years 05 months', '72 years 07 months', '83 years 03 months',\n",
       "       '67 years', '72 years 11 months', '90 years 08 months',\n",
       "       '84 years 11 months', '84 years 09 months', '82 years 07 months',\n",
       "       '66 years 08 months', '88 years 04 months', '85 years 10 months',\n",
       "       '90 years 05 months', '90 years 06 months', '83 years 05 months',\n",
       "       '84 years 02 months', '82 years 09 months', '82 years 05 months',\n",
       "       '73 years', '84 years 06 months', '83 years 07 months',\n",
       "       '52 years 05 months', '56 years 08 months', '56 years 06 months',\n",
       "       '68 years 01 month', '64 years 10 months', '57 years 01 month',\n",
       "       '86 years 06 months', '88 years 07 months', '93 years 11 months',\n",
       "       '58 years 02 months', '78 years 10 months', '77 years 08 months',\n",
       "       '75 years 07 months', '77 years 09 months', '75 years 08 months',\n",
       "       '77 years 04 months', '85 years 07 months', '95 years',\n",
       "       '89 years 07 months', '91 years 02 months', '94 years 11 months',\n",
       "       '85 years 11 months', '94 years 06 months', '94 years 07 months',\n",
       "       '95 years 01 month', '95 years 02 months', '95 years 06 months',\n",
       "       '93 years 02 months', '86 years 03 months', '87 years',\n",
       "       '86 years 04 months', '85 years 03 months', '86 years 02 months',\n",
       "       '85 years 09 months', '52 years', '49 years 01 month',\n",
       "       '57 years 06 months', '56 years 04 months', '95 years 03 months',\n",
       "       '88 years 11 months', '59 years', '85 years 08 months',\n",
       "       '92 years 07 months', '83 years 06 months', '83 years 02 months',\n",
       "       '81 years 11 months', '84 years', '94 years 02 months',\n",
       "       '94 years 01 month', '85 years 05 months', '85 years 02 months',\n",
       "       '83 years 08 months', '95 years 10 months', '93 years 10 months',\n",
       "       '81 years', '95 years 05 months', '88 years 01 month',\n",
       "       '94 years 09 months', '92 years 02 months', '90 years 04 months',\n",
       "       '91 years 11 months', '91 years 07 months', '84 years 08 months',\n",
       "       '84 years 05 months', '71 years 10 months', '74 years 10 months',\n",
       "       '69 years 09 months', '79 years 02 months', '64 years 09 months',\n",
       "       '79 years 03 months', '79 years 06 months', '79 years 08 months',\n",
       "       '90 years', '69 years 10 months', '77 years 10 months',\n",
       "       '49 years 05 months', '52 years 07 months', '54 years 07 months',\n",
       "       '88 years', '91 years 03 months', '59 years 10 months',\n",
       "       '62 years 09 months', '78 years 01 month', '71 years 09 months',\n",
       "       '81 years 08 months', '78 years 11 months', '74 years 05 months',\n",
       "       '66 years', '70 years', '70 years 02 months', '77 years 02 months',\n",
       "       '70 years 03 months', '69 years 07 months', '63 years 02 months',\n",
       "       '59 years 02 months', '61 years 11 months', '61 years 03 months',\n",
       "       '60 years 11 months', '75 years 02 months', '76 years 10 months',\n",
       "       '57 years 11 months', '54 years 05 months', '62 years 03 months',\n",
       "       '59 years 07 months', '62 years 02 months', '64 years 05 months',\n",
       "       '63 years 03 months', '82 years 10 months', '64 years 11 months',\n",
       "       '72 years', '74 years 03 months', '80 years 04 months',\n",
       "       '93 years 06 months', '68 years 11 months', '70 years 04 months',\n",
       "       '86 years 07 months', '57 years 03 months', '49 years 04 months',\n",
       "       '51 years 05 months', '52 years 11 months', '55 years 05 months',\n",
       "       '56 years 11 months', '87 years 08 months', '61 years 08 months',\n",
       "       '76 years 11 months', '77 years 06 months', '84 years 07 months',\n",
       "       '87 years 01 month', '59 years 09 months', '92 years 11 months',\n",
       "       '77 years', '76 years 09 months', '88 years 05 months',\n",
       "       '50 years 11 months', '48 years 11 months', '58 years 05 months',\n",
       "       '57 years 05 months', '94 years 03 months', '74 years 07 months',\n",
       "       '64 years 07 months', '64 years 01 month', '80 years 08 months',\n",
       "       '57 years 08 months', '58 years 09 months', '53 years 11 months',\n",
       "       '55 years 11 months', '56 years 01 month', '88 years 08 months',\n",
       "       '88 years 06 months', '92 years', '58 years 11 months',\n",
       "       '76 years 02 months', '76 years 08 months', '75 years 09 months',\n",
       "       '77 years 01 month', '89 years 10 months', '94 years 05 months',\n",
       "       '92 years 05 months', '86 years 01 month', '92 years 06 months',\n",
       "       '92 years 01 month', '94 years', '91 years 04 months',\n",
       "       '89 years 06 months', '90 years 03 months', '91 years 06 months',\n",
       "       '86 years', '90 years 10 months', '77 years 11 months',\n",
       "       '50 years 04 months', '51 years 11 months', '58 years 01 month',\n",
       "       '76 years 04 months', '82 years', '81 years 07 months',\n",
       "       '65 years 11 months', '63 years 01 month', '63 years 10 months',\n",
       "       '93 years 05 months', '93 years 04 months', '57 years 10 months',\n",
       "       '55 years 10 months', '64 years 06 months', '87 years 09 months',\n",
       "       '64 years 02 months', '55 years 07 months', '55 years 08 months',\n",
       "       '74 years 01 month', '65 years 08 months', '75 years',\n",
       "       '51 years 04 months', '54 years 10 months', '55 years 04 months',\n",
       "       '51 years 10 months', '92 years 10 months', '56 years 10 months',\n",
       "       '90 years 09 months', '87 years 07 months', '53 years 03 months',\n",
       "       '77 years 03 months', '50 years 10 months', '48 years 10 months',\n",
       "       '52 years 10 months', '93 years 09 months', '87 years 03 months',\n",
       "       '63 years 11 months', '75 years 01 month', '72 years 01 month',\n",
       "       '56 years 07 months', '57 years 07 months', '53 years 10 months',\n",
       "       '72 years 09 months', '75 years 10 months', '88 years 02 months',\n",
       "       '52 years 03 months', '54 years 04 months', '76 years 01 month',\n",
       "       '72 years 06 months', '89 years 05 months', '52 years 04 months',\n",
       "       '91 years 09 months', '90 years 02 months', '91 years 05 months',\n",
       "       '50 years 03 months', '51 years 03 months', '49 years 03 months',\n",
       "       '91 years 01 month', '76 years 03 months', '60 years 09 months',\n",
       "       '74 years', '54 years 03 months', '52 years 09 months',\n",
       "       '55 years 03 months', '54 years 09 months', '87 years 06 months',\n",
       "       '92 years 09 months', '76 years 07 months', '88 years 09 months',\n",
       "       '50 years 02 months', '53 years 09 months', '52 years 02 months',\n",
       "       '50 years 09 months', '56 years 09 months', '76 years 06 months',\n",
       "       '89 years 08 months', '51 years 09 months', '89 years 03 months',\n",
       "       '91 years 08 months', '89 years 04 months', '90 years 01 month',\n",
       "       '51 years 02 months', '49 years 02 months', '74 years 02 months',\n",
       "       '93 years 03 months', '54 years 02 months', '73 years 11 months',\n",
       "       '51 years 08 months', '54 years 08 months', '87 years 05 months',\n",
       "       '92 years 08 months', '52 years 08 months', '48 years 08 months',\n",
       "       '50 years 08 months', '50 years 01 month', '73 years 02 months',\n",
       "       '55 years 02 months', '88 years 03 months', '89 years 02 months',\n",
       "       '91 years 10 months', '53 years 02 months', '51 years 01 month',\n",
       "       '54 years 01 month', '73 years 10 months', '50 years 07 months',\n",
       "       '53 years 01 month', '87 years 04 months', '48 years 07 months',\n",
       "       '51 years 07 months', '96 years 08 months', '89 years 01 month',\n",
       "       '91 years', '76 years 05 months', '53 years 07 months', '50 years',\n",
       "       '93 years 01 month', '48 years 06 months', '50 years 06 months',\n",
       "       '73 years 01 month', '89 years 11 months', '96 years 07 months',\n",
       "       '73 years 09 months', '73 years 08 months', '87 years 02 months',\n",
       "       '49 years 10 months', '48 years 05 months', '96 years 06 months',\n",
       "       '89 years 09 months', '49 years 11 months', '73 years 07 months',\n",
       "       '48 years 04 months', '49 years 09 months', '53 years 04 months',\n",
       "       '96 years 05 months', '73 years 06 months', '48 years 03 months',\n",
       "       '49 years 08 months', '48 years', '96 years 04 months',\n",
       "       '49 years 07 months', '48 years 02 months', '96 years 03 months',\n",
       "       '73 years 05 months', '48 years 01 month', '49 years 06 months',\n",
       "       '96 years 02 months', '47 years 09 months', '96 years 01 month',\n",
       "       '47 years 11 months', '96 years', '95 years 11 months',\n",
       "       '47 years 10 months', '73 years 03 months', '47 years 08 months',\n",
       "       '47 years 04 months', '47 years 07 months', '47 years 06 months',\n",
       "       '47 years 05 months', '47 years 02 months', '47 years 03 months',\n",
       "       '47 years 01 month', '47 years', '46 years 11 months',\n",
       "       '46 years 10 months', '46 years 09 months', '46 years 08 months',\n",
       "       '66 years 0 months', '95 years 0 months', '46 years 07 months',\n",
       "       '46 years 06 months', '46 years 03 months', '93 years 0 months',\n",
       "       '46 years 05 months', '46 years 04 months', '46 years 01 month',\n",
       "       '46 years 02 months', '46 years', '45 years 09 months',\n",
       "       '45 years 11 months', '45 years 10 months', '45 years 07 months',\n",
       "       '45 years 08 months', '97 years 01 month', '45 years 06 months',\n",
       "       '97 years 09 months', '45 years 05 months', '45 years 04 months',\n",
       "       '97 years', '97 years 07 months', '45 years 03 months',\n",
       "       '45 years 02 months', '96 years 09 months', '45 years 01 month',\n",
       "       '44 years 10 months', '97 years 05 months', '97 years 04 months',\n",
       "       '45 years', '44 years 11 months', '97 years 03 months',\n",
       "       '97 years 02 months', '44 years 09 months', '44 years 08 months',\n",
       "       '96 years 11 months', '44 years 07 months', '44 years 06 months',\n",
       "       '96 years 10 months', '44 years 05 months', '44 years 04 months',\n",
       "       '44 years 03 months', '44 years 01 month', '44 years 02 months',\n",
       "       '44 years', '43 years 10 months', '43 years 09 months',\n",
       "       '43 years 08 months', '43 years 07 months', '43 years 11 months',\n",
       "       '43 years 06 months', '43 years 05 months', '43 years 04 months',\n",
       "       '43 years 03 months', '43 years 01 month', '43 years 02 months',\n",
       "       '43 years', '42 years 11 months', '42 years 08 months',\n",
       "       '42 years 07 months', '42 years 10 months', '42 years 09 months',\n",
       "       '42 years 06 months', '42 years 05 months', '42 years 04 months',\n",
       "       '42 years 03 months', '42 years 02 months', '42 years 01 month',\n",
       "       '41 years 09 months', '42 years', '41 years 11 months',\n",
       "       '41 years 10 months', '41 years 08 months', '41 years 06 months'],\n",
       "      dtype=object)"
      ]
     },
     "execution_count": 13,
     "metadata": {},
     "output_type": "execute_result"
    }
   ],
   "source": [
    "df['remaining_lease'].unique()"
   ]
  },
  {
   "cell_type": "code",
   "execution_count": 28,
   "metadata": {},
   "outputs": [],
   "source": [
    "#Converting str values to float\n",
    "def convert_to_years(yr_str):\n",
    "    if pd.notna(yr_str) and isinstance(yr_str,str):\n",
    "        if 'years' in yr_str:\n",
    "            yr_split = yr_str.split()\n",
    "            years=float(yr_split[0])\n",
    "            if len(yr_split)>2:\n",
    "                months=float(yr_split[2])\n",
    "            else:\n",
    "                months=0\n",
    "            return years+months/12        \n",
    "df['remaining_lease']=df['remaining_lease'].apply(convert_to_years)"
   ]
  },
  {
   "cell_type": "code",
   "execution_count": 58,
   "metadata": {},
   "outputs": [
    {
     "name": "stdout",
     "output_type": "stream",
     "text": [
      "<class 'pandas.core.frame.DataFrame'>\n",
      "RangeIndex: 927465 entries, 0 to 927464\n",
      "Data columns (total 9 columns):\n",
      " #   Column               Non-Null Count   Dtype  \n",
      "---  ------               --------------   -----  \n",
      " 0   town                 927465 non-null  object \n",
      " 1   flat_type            927465 non-null  object \n",
      " 2   block                927465 non-null  object \n",
      " 3   storey_range         927465 non-null  object \n",
      " 4   floor_area_sqm       927465 non-null  float64\n",
      " 5   flat_model           927465 non-null  object \n",
      " 6   lease_commence_date  927465 non-null  int64  \n",
      " 7   resale_price         927465 non-null  float64\n",
      " 8   year                 927465 non-null  int32  \n",
      "dtypes: float64(2), int32(1), int64(1), object(5)\n",
      "memory usage: 60.1+ MB\n"
     ]
    }
   ],
   "source": [
    "df.info()"
   ]
  },
  {
   "cell_type": "code",
   "execution_count": 49,
   "metadata": {},
   "outputs": [],
   "source": [
    "#Dropping unecessary columns\n",
    "df.drop(columns=['remaining_lease','street_name'],axis=1,inplace=True)"
   ]
  },
  {
   "cell_type": "code",
   "execution_count": 52,
   "metadata": {},
   "outputs": [],
   "source": [
    "#Splitting column into two columns year and month\n",
    "df['year'], df['month'] = pd.to_datetime(df['month'], format='%Y-%m').dt.year, pd.to_datetime(df['month'], format='%Y-%m').dt.month"
   ]
  },
  {
   "cell_type": "code",
   "execution_count": 55,
   "metadata": {},
   "outputs": [
    {
     "data": {
      "text/plain": [
       "0.6749372136067942"
      ]
     },
     "execution_count": 55,
     "metadata": {},
     "output_type": "execute_result"
    }
   ],
   "source": [
    "df['year'].corr(df['resale_price'])"
   ]
  },
  {
   "cell_type": "code",
   "execution_count": 56,
   "metadata": {},
   "outputs": [
    {
     "data": {
      "text/plain": [
       "0.004162860457822417"
      ]
     },
     "execution_count": 56,
     "metadata": {},
     "output_type": "execute_result"
    }
   ],
   "source": [
    "df['month'].corr(df['resale_price'])"
   ]
  },
  {
   "cell_type": "code",
   "execution_count": 57,
   "metadata": {},
   "outputs": [],
   "source": [
    "df.drop(columns=['month'],axis=1,inplace=True)"
   ]
  },
  {
   "cell_type": "code",
   "execution_count": 62,
   "metadata": {},
   "outputs": [
    {
     "data": {
      "text/plain": [
       "array(['ANG MO KIO', 'BEDOK', 'BISHAN', 'BUKIT BATOK', 'BUKIT MERAH',\n",
       "       'BUKIT TIMAH', 'CENTRAL AREA', 'CHOA CHU KANG', 'CLEMENTI',\n",
       "       'GEYLANG', 'HOUGANG', 'JURONG EAST', 'JURONG WEST',\n",
       "       'KALLANG/WHAMPOA', 'MARINE PARADE', 'QUEENSTOWN', 'SENGKANG',\n",
       "       'SERANGOON', 'TAMPINES', 'TOA PAYOH', 'WOODLANDS', 'YISHUN',\n",
       "       'LIM CHU KANG', 'SEMBAWANG', 'BUKIT PANJANG', 'PASIR RIS',\n",
       "       'PUNGGOL'], dtype=object)"
      ]
     },
     "execution_count": 62,
     "metadata": {},
     "output_type": "execute_result"
    }
   ],
   "source": [
    "df['town'].unique()"
   ]
  },
  {
   "cell_type": "code",
   "execution_count": 64,
   "metadata": {},
   "outputs": [
    {
     "data": {
      "text/plain": [
       "array(['1 ROOM', '3 ROOM', '4 ROOM', '5 ROOM', '2 ROOM', 'EXECUTIVE',\n",
       "       'MULTI GENERATION', 'MULTI-GENERATION'], dtype=object)"
      ]
     },
     "execution_count": 64,
     "metadata": {},
     "output_type": "execute_result"
    }
   ],
   "source": [
    "df['flat_type'].unique()"
   ]
  },
  {
   "cell_type": "code",
   "execution_count": 66,
   "metadata": {},
   "outputs": [
    {
     "data": {
      "text/plain": [
       "array(['309', '216', '211', ..., '460C', '240A', '460D'], dtype=object)"
      ]
     },
     "execution_count": 66,
     "metadata": {},
     "output_type": "execute_result"
    }
   ],
   "source": [
    "df['block'].unique()"
   ]
  },
  {
   "cell_type": "code",
   "execution_count": 67,
   "metadata": {},
   "outputs": [],
   "source": [
    "df.drop(columns=['block'],axis=1,inplace=True)"
   ]
  },
  {
   "cell_type": "code",
   "execution_count": 70,
   "metadata": {},
   "outputs": [
    {
     "data": {
      "text/plain": [
       "array(['10 TO 12', '04 TO 06', '07 TO 09', '01 TO 03', '13 TO 15',\n",
       "       '19 TO 21', '16 TO 18', '25 TO 27', '22 TO 24', '28 TO 30',\n",
       "       '31 TO 33', '40 TO 42', '37 TO 39', '34 TO 36', '06 TO 10',\n",
       "       '01 TO 05', '11 TO 15', '16 TO 20', '21 TO 25', '26 TO 30',\n",
       "       '36 TO 40', '31 TO 35', '46 TO 48', '43 TO 45', '49 TO 51'],\n",
       "      dtype=object)"
      ]
     },
     "execution_count": 70,
     "metadata": {},
     "output_type": "execute_result"
    }
   ],
   "source": [
    "df['storey_range'].unique()"
   ]
  },
  {
   "cell_type": "code",
   "execution_count": 73,
   "metadata": {},
   "outputs": [
    {
     "data": {
      "text/plain": [
       "array([ 31. ,  73. ,  67. ,  82. ,  74. ,  88. ,  89. ,  83. ,  68. ,\n",
       "        75. ,  81. ,  91. ,  92. ,  97. ,  90. ,  98. ,  99. , 100. ,\n",
       "        93. , 103. , 119. , 120. , 118. , 121. , 135. , 117. ,  45. ,\n",
       "        65. ,  59. ,  70. ,  76. ,  84. , 104. , 105. , 125. , 132. ,\n",
       "       139. , 123. , 143. , 151. ,  69. , 106. , 107. , 116. , 149. ,\n",
       "       141. , 146. , 148. , 145. , 154. , 150. ,  29. ,  51. ,  61. ,\n",
       "        63. ,  64. ,  72. ,  58. ,  66. ,  60. ,  53. ,  54. ,  56. ,\n",
       "        77. , 133. , 131. , 115. ,  43. ,  38. ,  41. ,  85. , 111. ,\n",
       "       101. , 112. , 137. , 127. , 147. , 163. ,  50. ,  40. ,  60.3,\n",
       "        62. ,  55. ,  57. ,  52. ,  63.1, 102. ,  83.1, 126. , 140. ,\n",
       "       142. ,  71. , 108. , 144. ,  96. , 114. , 157. , 152. , 155. ,\n",
       "        87. , 109. , 110. ,  94. , 134. , 122. , 128. ,  78. ,  46. ,\n",
       "        42. ,  49. ,  47. ,  86. , 156. ,  79. ,  80. , 124. ,  28. ,\n",
       "       113. ,  95. , 160. , 136. ,  48. , 138. , 161. ,  39. , 130. ,\n",
       "       159. , 206. ,  68.2,  64.9, 129. , 165. , 153. , 166. , 210. ,\n",
       "        59.2,  73.1,  48.1, 174. ,  74.9, 164. , 158. ,  37. , 198. ,\n",
       "       173. , 199. , 261. , 179. ,  69.7, 246. , 171. , 181. ,  44. ,\n",
       "       169. , 189. ,  67.2, 222. ,  64.8, 250. ,  74.8, 215. , 237. ,\n",
       "        59.1, 185. , 297. , 177. , 243. ,  69.9, 162. , 170. , 190. ,\n",
       "       175. , 187. , 241. , 186. ,  56.4, 176. ,  75.9, 184. , 178. ,\n",
       "        69.2, 172. , 168. , 167. , 152.4,  64.7, 195. , 188. , 225. ,\n",
       "       307. , 182. , 131.1, 192. , 183. , 280. , 180. , 221. , 193. ,\n",
       "       207. ,  89.1,  88.1, 259. , 266. ,  87.1,  34. ,  35. , 239. ,\n",
       "       249. ,  68.8, 100.2, 208. , 189.4])"
      ]
     },
     "execution_count": 73,
     "metadata": {},
     "output_type": "execute_result"
    }
   ],
   "source": [
    "df['floor_area_sqm'].unique()"
   ]
  },
  {
   "cell_type": "code",
   "execution_count": 76,
   "metadata": {},
   "outputs": [
    {
     "data": {
      "text/plain": [
       "array(['IMPROVED', 'NEW GENERATION', 'MODEL A', 'STANDARD', 'SIMPLIFIED',\n",
       "       'MODEL A-MAISONETTE', 'APARTMENT', 'MAISONETTE', 'TERRACE',\n",
       "       '2-ROOM', 'IMPROVED-MAISONETTE', 'MULTI GENERATION',\n",
       "       'PREMIUM APARTMENT', 'Improved', 'New Generation', 'Model A',\n",
       "       'Standard', 'Apartment', 'Simplified', 'Model A-Maisonette',\n",
       "       'Maisonette', 'Multi Generation', 'Adjoined flat',\n",
       "       'Premium Apartment', 'Terrace', 'Improved-Maisonette',\n",
       "       'Premium Maisonette', '2-room', 'Model A2', 'DBSS', 'Type S1',\n",
       "       'Type S2', 'Premium Apartment Loft', '3Gen'], dtype=object)"
      ]
     },
     "execution_count": 76,
     "metadata": {},
     "output_type": "execute_result"
    }
   ],
   "source": [
    "df['flat_model'].unique()"
   ]
  },
  {
   "cell_type": "code",
   "execution_count": 79,
   "metadata": {},
   "outputs": [
    {
     "data": {
      "text/plain": [
       "array([1977, 1976, 1978, 1979, 1984, 1980, 1985, 1981, 1982, 1986, 1972,\n",
       "       1983, 1973, 1969, 1975, 1971, 1974, 1967, 1970, 1968, 1988, 1987,\n",
       "       1989, 1990, 1992, 1993, 1994, 1991, 1995, 1996, 1997, 1998, 1999,\n",
       "       2000, 2001, 1966, 2002, 2006, 2003, 2005, 2004, 2008, 2007, 2009,\n",
       "       2010, 2012, 2011, 2013, 2014, 2015, 2016, 2017, 2018, 2019, 2020],\n",
       "      dtype=int64)"
      ]
     },
     "execution_count": 79,
     "metadata": {},
     "output_type": "execute_result"
    }
   ],
   "source": [
    "df['lease_commence_date'].unique()"
   ]
  },
  {
   "cell_type": "code",
   "execution_count": 81,
   "metadata": {},
   "outputs": [
    {
     "data": {
      "text/plain": [
       "9524"
      ]
     },
     "execution_count": 81,
     "metadata": {},
     "output_type": "execute_result"
    }
   ],
   "source": [
    "df['resale_price'].nunique()"
   ]
  },
  {
   "cell_type": "code",
   "execution_count": 82,
   "metadata": {},
   "outputs": [
    {
     "name": "stdout",
     "output_type": "stream",
     "text": [
      "<class 'pandas.core.frame.DataFrame'>\n",
      "RangeIndex: 927465 entries, 0 to 927464\n",
      "Data columns (total 8 columns):\n",
      " #   Column               Non-Null Count   Dtype  \n",
      "---  ------               --------------   -----  \n",
      " 0   town                 927465 non-null  object \n",
      " 1   flat_type            927465 non-null  object \n",
      " 2   storey_range         927465 non-null  object \n",
      " 3   floor_area_sqm       927465 non-null  float64\n",
      " 4   flat_model           927465 non-null  object \n",
      " 5   lease_commence_date  927465 non-null  int64  \n",
      " 6   resale_price         927465 non-null  float64\n",
      " 7   year                 927465 non-null  int32  \n",
      "dtypes: float64(2), int32(1), int64(1), object(4)\n",
      "memory usage: 53.1+ MB\n"
     ]
    }
   ],
   "source": [
    "df.info()"
   ]
  },
  {
   "cell_type": "code",
   "execution_count": null,
   "metadata": {},
   "outputs": [],
   "source": [
    "#Seperating features as numerical and categorical\n",
    "category_col = ['town','flat_type','storey_range','flat_model']\n",
    "numerical_col = ['floor_area_sqm','lease_commence_date','year']"
   ]
  },
  {
   "cell_type": "markdown",
   "metadata": {},
   "source": [
    "Dealing with outliers and skewness"
   ]
  },
  {
   "cell_type": "code",
   "execution_count": 83,
   "metadata": {},
   "outputs": [
    {
     "data": {
      "text/plain": [
       "<Axes: ylabel='floor_area_sqm'>"
      ]
     },
     "execution_count": 83,
     "metadata": {},
     "output_type": "execute_result"
    },
    {
     "data": {
      "image/png": "[encoded data removed]",
      "text/plain": [
       "<Figure size 640x480 with 1 Axes>"
      ]
     },
     "metadata": {},
     "output_type": "display_data"
    }
   ],
   "source": [
    "sns.boxplot(data=df['floor_area_sqm'])"
   ]
  },
  {
   "cell_type": "code",
   "execution_count": 87,
   "metadata": {},
   "outputs": [
    {
     "data": {
      "text/plain": [
       "<Axes: xlabel='floor_area_sqm', ylabel='Count'>"
      ]
     },
     "execution_count": 87,
     "metadata": {},
     "output_type": "execute_result"
    },
    {
     "data": {
      "image/png": "[encoded data removed]",
      "text/plain": [
       "<Figure size 640x480 with 1 Axes>"
      ]
     },
     "metadata": {},
     "output_type": "display_data"
    }
   ],
   "source": [
    "sns.histplot(data=df['floor_area_sqm'])"
   ]
  },
  {
   "cell_type": "code",
   "execution_count": 84,
   "metadata": {},
   "outputs": [
    {
     "data": {
      "text/plain": [
       "<Axes: ylabel='lease_commence_date'>"
      ]
     },
     "execution_count": 84,
     "metadata": {},
     "output_type": "execute_result"
    },
    {
     "data": {
      "image/png": "[encoded data removed]",
      "text/plain": [
       "<Figure size 640x480 with 1 Axes>"
      ]
     },
     "metadata": {},
     "output_type": "display_data"
    }
   ],
   "source": [
    "sns.boxplot(data=df['lease_commence_date'])"
   ]
  },
  {
   "cell_type": "code",
   "execution_count": 88,
   "metadata": {},
   "outputs": [
    {
     "data": {
      "text/plain": [
       "<Axes: xlabel='lease_commence_date', ylabel='Count'>"
      ]
     },
     "execution_count": 88,
     "metadata": {},
     "output_type": "execute_result"
    },
    {
     "data": {
      "image/png": "[encoded data removed]",
      "text/plain": [
       "<Figure size 640x480 with 1 Axes>"
      ]
     },
     "metadata": {},
     "output_type": "display_data"
    }
   ],
   "source": [
    "sns.histplot(data=df['lease_commence_date'])"
   ]
  },
  {
   "cell_type": "code",
   "execution_count": 85,
   "metadata": {},
   "outputs": [
    {
     "data": {
      "text/plain": [
       "<Axes: ylabel='year'>"
      ]
     },
     "execution_count": 85,
     "metadata": {},
     "output_type": "execute_result"
    },
    {
     "data": {
      "image/png": "[encoded data removed]",
      "text/plain": [
       "<Figure size 640x480 with 1 Axes>"
      ]
     },
     "metadata": {},
     "output_type": "display_data"
    }
   ],
   "source": [
    "sns.boxplot(data=df['year'])"
   ]
  },
  {
   "cell_type": "code",
   "execution_count": 89,
   "metadata": {},
   "outputs": [
    {
     "data": {
      "text/plain": [
       "<Axes: xlabel='year', ylabel='Count'>"
      ]
     },
     "execution_count": 89,
     "metadata": {},
     "output_type": "execute_result"
    },
    {
     "data": {
      "image/png": "[encoded data removed]",
      "text/plain": [
       "<Figure size 640x480 with 1 Axes>"
      ]
     },
     "metadata": {},
     "output_type": "display_data"
    }
   ],
   "source": [
    "sns.histplot(data=df['year'])"
   ]
  },
  {
   "cell_type": "code",
   "execution_count": 86,
   "metadata": {},
   "outputs": [
    {
     "data": {
      "text/plain": [
       "<Axes: ylabel='resale_price'>"
      ]
     },
     "execution_count": 86,
     "metadata": {},
     "output_type": "execute_result"
    },
    {
     "data": {
      "image/png": "[encoded data removed]",
      "text/plain": [
       "<Figure size 640x480 with 1 Axes>"
      ]
     },
     "metadata": {},
     "output_type": "display_data"
    }
   ],
   "source": [
    "sns.boxplot(data=df['resale_price'])"
   ]
  },
  {
   "cell_type": "code",
   "execution_count": 90,
   "metadata": {},
   "outputs": [
    {
     "data": {
      "text/plain": [
       "<Axes: xlabel='resale_price', ylabel='Count'>"
      ]
     },
     "execution_count": 90,
     "metadata": {},
     "output_type": "execute_result"
    },
    {
     "data": {
      "image/png": "[encoded data removed]",
      "text/plain": [
       "<Figure size 640x480 with 1 Axes>"
      ]
     },
     "metadata": {},
     "output_type": "display_data"
    }
   ],
   "source": [
    "sns.histplot(data=df['resale_price'])"
   ]
  },
  {
   "cell_type": "code",
   "execution_count": 91,
   "metadata": {},
   "outputs": [],
   "source": [
    "df['resale_price_log'] = np.log(df['resale_price'])"
   ]
  },
  {
   "cell_type": "code",
   "execution_count": 92,
   "metadata": {},
   "outputs": [
    {
     "data": {
      "text/plain": [
       "<Axes: xlabel='resale_price_log', ylabel='Count'>"
      ]
     },
     "execution_count": 92,
     "metadata": {},
     "output_type": "execute_result"
    },
    {
     "data": {
      "image/png": "[encoded data removed]",
      "text/plain": [
       "<Figure size 640x480 with 1 Axes>"
      ]
     },
     "metadata": {},
     "output_type": "display_data"
    }
   ],
   "source": [
    "sns.histplot(data=df['resale_price_log'])"
   ]
  },
  {
   "cell_type": "code",
   "execution_count": 93,
   "metadata": {},
   "outputs": [],
   "source": [
    "def outlier(df, column):\n",
    "    iqr = df[column].quantile(0.75) - df[column].quantile(0.25)\n",
    "    upper_threshold = df[column].quantile(0.75) + (1.5*iqr)\n",
    "    lower_threshold = df[column].quantile(0.25) - (1.5*iqr)\n",
    "    df[column] = df[column].clip(lower_threshold, upper_threshold)"
   ]
  },
  {
   "cell_type": "code",
   "execution_count": 94,
   "metadata": {},
   "outputs": [],
   "source": [
    "outlier(df, 'floor_area_sqm')\n",
    "outlier(df, 'resale_price_log')\n",
    "outlier(df, 'lease_commence_date')"
   ]
  },
  {
   "cell_type": "code",
   "execution_count": 95,
   "metadata": {},
   "outputs": [
    {
     "data": {
      "text/plain": [
       "<Axes: ylabel='floor_area_sqm'>"
      ]
     },
     "execution_count": 95,
     "metadata": {},
     "output_type": "execute_result"
    },
    {
     "data": {
      "image/png": "[encoded data removed]",
      "text/plain": [
       "<Figure size 640x480 with 1 Axes>"
      ]
     },
     "metadata": {},
     "output_type": "display_data"
    }
   ],
   "source": [
    "sns.boxplot(data=df['floor_area_sqm'])"
   ]
  },
  {
   "cell_type": "code",
   "execution_count": 96,
   "metadata": {},
   "outputs": [
    {
     "data": {
      "text/plain": [
       "<Axes: ylabel='resale_price_log'>"
      ]
     },
     "execution_count": 96,
     "metadata": {},
     "output_type": "execute_result"
    },
    {
     "data": {
      "image/png": "[encoded data removed]",
      "text/plain": [
       "<Figure size 640x480 with 1 Axes>"
      ]
     },
     "metadata": {},
     "output_type": "display_data"
    }
   ],
   "source": [
    "sns.boxplot(data=df['resale_price_log'])"
   ]
  },
  {
   "cell_type": "code",
   "execution_count": 97,
   "metadata": {},
   "outputs": [
    {
     "data": {
      "text/plain": [
       "<Axes: xlabel='resale_price_log', ylabel='Count'>"
      ]
     },
     "execution_count": 97,
     "metadata": {},
     "output_type": "execute_result"
    },
    {
     "data": {
      "image/png": "[encoded data removed]",
      "text/plain": [
       "<Figure size 640x480 with 1 Axes>"
      ]
     },
     "metadata": {},
     "output_type": "display_data"
    }
   ],
   "source": [
    "sns.histplot(data=df['resale_price_log'])"
   ]
  },
  {
   "cell_type": "code",
   "execution_count": 98,
   "metadata": {},
   "outputs": [
    {
     "data": {
      "text/plain": [
       "<Axes: ylabel='lease_commence_date'>"
      ]
     },
     "execution_count": 98,
     "metadata": {},
     "output_type": "execute_result"
    },
    {
     "data": {
      "image/png": "[encoded data removed]",
      "text/plain": [
       "<Figure size 640x480 with 1 Axes>"
      ]
     },
     "metadata": {},
     "output_type": "display_data"
    }
   ],
   "source": [
    "sns.boxplot(data=df['lease_commence_date'])"
   ]
  },
  {
   "cell_type": "code",
   "execution_count": 99,
   "metadata": {},
   "outputs": [],
   "source": [
    "df.drop(columns = ['resale_price'], axis =1, inplace = True)"
   ]
  },
  {
   "cell_type": "code",
   "execution_count": 100,
   "metadata": {},
   "outputs": [],
   "source": [
    "df.to_csv('data_preprocessed.csv', index=False) "
   ]
  },
  {
   "cell_type": "markdown",
   "metadata": {},
   "source": [
    "MODEL SELECTION"
   ]
  },
  {
   "cell_type": "code",
   "execution_count": 5,
   "metadata": {},
   "outputs": [],
   "source": [
    "import pandas as pd\n",
    "import numpy as np\n",
    "from sklearn.preprocessing import OneHotEncoder\n",
    "from sklearn.preprocessing import StandardScaler\n",
    "from sklearn.model_selection import train_test_split\n",
    "from sklearn.linear_model import LinearRegression\n",
    "from sklearn.tree import DecisionTreeRegressor\n",
    "from sklearn.ensemble import RandomForestRegressor\n",
    "from sklearn.metrics import mean_absolute_error, mean_squared_error, r2_score\n",
    "import pickle\n",
    "# from sklearn.externals import joblib  # Import joblib from sklearn.externals (if using older scikit-learn)\n",
    "from joblib import dump, load "
   ]
  },
  {
   "cell_type": "code",
   "execution_count": 38,
   "metadata": {},
   "outputs": [],
   "source": [
    "df=pd.read_csv(\"data_preprocessed.csv\")"
   ]
  },
  {
   "cell_type": "code",
   "execution_count": 48,
   "metadata": {},
   "outputs": [
    {
     "data": {
      "text/plain": [
       "173.0"
      ]
     },
     "execution_count": 48,
     "metadata": {},
     "output_type": "execute_result"
    }
   ],
   "source": [
    "df['floor_area_sqm'].max()"
   ]
  },
  {
   "cell_type": "code",
   "execution_count": 3,
   "metadata": {},
   "outputs": [],
   "source": [
    "category_col = ['town','flat_type','storey_range','flat_model']\n",
    "numerical_col = ['floor_area_sqm','lease_commence_date','year']"
   ]
  },
  {
   "cell_type": "code",
   "execution_count": 6,
   "metadata": {},
   "outputs": [],
   "source": [
    "#Encoding categorical features using onehotencoder\n",
    "encoder = OneHotEncoder(sparse_output=False)\n",
    "encoded_categorical_data = encoder.fit_transform(df[category_col])\n",
    "encoded_categorical_cols = encoder.get_feature_names_out(category_col)\n",
    "encoded_categorical_df1 = pd.DataFrame(encoded_categorical_data, columns=encoded_categorical_cols)"
   ]
  },
  {
   "cell_type": "code",
   "execution_count": 127,
   "metadata": {},
   "outputs": [
    {
     "name": "stdout",
     "output_type": "stream",
     "text": [
      "Encoder pickled successfully!\n"
     ]
    }
   ],
   "source": [
    "#picling the encoder\n",
    "with open('encoder.pkl', 'wb') as f:\n",
    "    # Pickle the encoder object\n",
    "    pickle.dump(encoder, f)\n",
    "\n",
    "print(\"Encoder pickled successfully!\")"
   ]
  },
  {
   "cell_type": "code",
   "execution_count": 7,
   "metadata": {},
   "outputs": [],
   "source": [
    "# Scaling numerical features\n",
    "scaler_features = StandardScaler()\n",
    "X_encoded_scaled = scaler_features.fit_transform(df[numerical_col])\n",
    "\n",
    "# Scaling target variable\n",
    "scaler_target = StandardScaler()\n",
    "y_scaled = scaler_target.fit_transform(df[['resale_price_log']])"
   ]
  },
  {
   "cell_type": "code",
   "execution_count": 128,
   "metadata": {},
   "outputs": [
    {
     "name": "stdout",
     "output_type": "stream",
     "text": [
      "Scaler for numerical features pickled successfully!\n",
      "Scaler for target variable pickled successfully!\n"
     ]
    }
   ],
   "source": [
    "#pickling standard scaler\n",
    "with open('scaler_features.pkl', 'wb') as f:\n",
    "    pickle.dump(scaler_features, f)\n",
    "print(\"Scaler for numerical features pickled successfully!\")\n",
    "\n",
    "# Pickle scaler for target variable\n",
    "with open('scaler_target.pkl', 'wb') as f:\n",
    "    pickle.dump(scaler_target, f)\n",
    "print(\"Scaler for target variable pickled successfully!\")"
   ]
  },
  {
   "cell_type": "code",
   "execution_count": 8,
   "metadata": {},
   "outputs": [],
   "source": [
    "# Combine scaled numerical data with encoded categorical data\n",
    "X_encoded_combined1 = pd.concat([pd.DataFrame(X_encoded_scaled, columns=numerical_col), encoded_categorical_df1], axis=1)"
   ]
  },
  {
   "cell_type": "code",
   "execution_count": 9,
   "metadata": {},
   "outputs": [],
   "source": [
    "X_train, X_test, y_train, y_test = train_test_split(X_encoded_combined1, y_scaled, test_size=0.2, random_state=42)"
   ]
  },
  {
   "cell_type": "code",
   "execution_count": 120,
   "metadata": {},
   "outputs": [
    {
     "name": "stdout",
     "output_type": "stream",
     "text": [
      "Mean Absolute Error (MAE): 0.30546076257685595\n",
      "Mean Squared Error (MSE): 0.16150264063432468\n",
      "Root Mean Squared Error (RMSE): 0.40187391136315964\n",
      "R-squared: 0.8391876548932607\n"
     ]
    }
   ],
   "source": [
    "#Linear regression model\n",
    "model = LinearRegression()\n",
    "\n",
    "# Fit the model on the training data\n",
    "model.fit(X_train, y_train)\n",
    "\n",
    "# Make predictions on the testing data\n",
    "y_pred = model.predict(X_test)\n",
    "\n",
    "# Evaluation metrics\n",
    "mae = mean_absolute_error(y_test, y_pred)\n",
    "mse = mean_squared_error(y_test, y_pred)\n",
    "rmse = np.sqrt(mse)  # Calculate root mean squared error\n",
    "r2 = r2_score(y_test, y_pred)\n",
    "\n",
    "# Print the evaluation metrics\n",
    "print(\"Mean Absolute Error (MAE):\", mae)\n",
    "print(\"Mean Squared Error (MSE):\", mse)\n",
    "print(\"Root Mean Squared Error (RMSE):\", rmse)\n",
    "print(\"R-squared:\", r2)"
   ]
  },
  {
   "cell_type": "code",
   "execution_count": 11,
   "metadata": {},
   "outputs": [
    {
     "name": "stdout",
     "output_type": "stream",
     "text": [
      "Mean Absolute Error (MAE): 0.11715521659675465\n",
      "Mean Squared Error (MSE): 0.02876866224105558\n",
      "Root Mean Squared Error (RMSE): 0.1696132725969745\n",
      "R-squared: 0.9713543009427141\n"
     ]
    }
   ],
   "source": [
    "#Decision tree regressor model\n",
    "model = DecisionTreeRegressor()\n",
    "\n",
    "# Fit the model on the training data\n",
    "model.fit(X_train, y_train)\n",
    "\n",
    "# Make predictions on the testing data\n",
    "y_pred = model.predict(X_test)\n",
    "\n",
    "# Evaluation metrics\n",
    "mae = mean_absolute_error(y_test, y_pred)\n",
    "mse = mean_squared_error(y_test, y_pred)\n",
    "rmse = np.sqrt(mse)  # Calculate root mean squared error\n",
    "r2 = r2_score(y_test, y_pred)\n",
    "\n",
    "# Print the evaluation metrics\n",
    "print(\"Mean Absolute Error (MAE):\", mae)\n",
    "print(\"Mean Squared Error (MSE):\", mse)\n",
    "print(\"Root Mean Squared Error (RMSE):\", rmse)\n",
    "print(\"R-squared:\", r2)"
   ]
  },
  {
   "cell_type": "code",
   "execution_count": 12,
   "metadata": {},
   "outputs": [
    {
     "name": "stdout",
     "output_type": "stream",
     "text": [
      "DecisionTree model pickled successfully!\n"
     ]
    }
   ],
   "source": [
    "with open(\"decision_tree_model.pkl\", \"wb\") as f:\n",
    "    pickle.dump(model, f)\n",
    "    print(\"DecisionTree model pickled successfully!\")\n",
    "\n",
    "# # Load the pickled model (optional)\n",
    "# with open(\"decision_tree_model.pkl\", \"rb\") as f:\n",
    "#     loaded_model = pickle.load(f)"
   ]
  },
  {
   "cell_type": "code",
   "execution_count": 125,
   "metadata": {},
   "outputs": [
    {
     "name": "stderr",
     "output_type": "stream",
     "text": [
      "c:\\Users\\SANGAVI\\AppData\\Local\\Programs\\Python\\Python312\\Lib\\site-packages\\sklearn\\base.py:1474: DataConversionWarning: A column-vector y was passed when a 1d array was expected. Please change the shape of y to (n_samples,), for example using ravel().\n",
      "  return fit_method(estimator, *args, **kwargs)\n"
     ]
    },
    {
     "name": "stdout",
     "output_type": "stream",
     "text": [
      "Mean Absolute Error (MAE): 0.1076197787972491\n",
      "Mean Squared Error (MSE): 0.023593168562953605\n",
      "Root Mean Squared Error (RMSE): 0.15360067891436419\n",
      "R-squared: 0.9765076734955824\n"
     ]
    }
   ],
   "source": [
    "#Random forest regressor model\n",
    "model = RandomForestRegressor()\n",
    "\n",
    "# Fit the model on the training data\n",
    "model.fit(X_train, y_train)\n",
    "\n",
    "# Make predictions on the testing data\n",
    "y_pred = model.predict(X_test)\n",
    "\n",
    "# Evaluation metrics\n",
    "mae = mean_absolute_error(y_test, y_pred)\n",
    "mse = mean_squared_error(y_test, y_pred)\n",
    "rmse = np.sqrt(mse)  # Calculate root mean squared error\n",
    "r2 = r2_score(y_test, y_pred)\n",
    "\n",
    "# Print the evaluation metrics\n",
    "print(\"Mean Absolute Error (MAE):\", mae)\n",
    "print(\"Mean Squared Error (MSE):\", mse)\n",
    "print(\"Root Mean Squared Error (RMSE):\", rmse)\n",
    "print(\"R-squared:\", r2)"
   ]
  },
  {
   "cell_type": "code",
   "execution_count": 10,
   "metadata": {},
   "outputs": [
    {
     "name": "stdout",
     "output_type": "stream",
     "text": [
      "Mean Absolute Error (MAE): 0.14342604686366536\n",
      "Mean Squared Error (MSE): 0.03548178787745532\n",
      "Root Mean Squared Error (RMSE): 0.1883661006589437\n",
      "R-squared: 0.9646698685870232\n"
     ]
    }
   ],
   "source": [
    "# Import XGBoost regressor\n",
    "from xgboost import XGBRegressor\n",
    "\n",
    "# Define XGBoost model with some initial parameters\n",
    "model = XGBRegressor(objective='reg:squarederror', max_depth=5, eta=0.1)\n",
    "\n",
    "# Fit the model on the training data\n",
    "model.fit(X_train, y_train)\n",
    "\n",
    "# Make predictions on the testing data\n",
    "y_pred = model.predict(X_test)\n",
    "\n",
    "# Evaluation metrics (same as random forest)\n",
    "mae = mean_absolute_error(y_test, y_pred)\n",
    "mse = mean_squared_error(y_test, y_pred)\n",
    "rmse = np.sqrt(mse)  # Calculate root mean squared error\n",
    "r2 = r2_score(y_test, y_pred)\n",
    "\n",
    "# Print the evaluation metrics\n",
    "print(\"Mean Absolute Error (MAE):\", mae)\n",
    "print(\"Mean Squared Error (MSE):\", mse)\n",
    "print(\"Root Mean Squared Error (RMSE):\", rmse)\n",
    "print(\"R-squared:\", r2)\n"
   ]
  },
  {
   "cell_type": "code",
   "execution_count": 137,
   "metadata": {},
   "outputs": [
    {
     "name": "stdout",
     "output_type": "stream",
     "text": [
      "Random forest regressor model saved successfully!\n"
     ]
    }
   ],
   "source": [
    "#pickling the model\n",
    "from joblib import dump\n",
    "\n",
    "# ... rest of your code ...\n",
    "\n",
    "# Saving the model\n",
    "dump(model, 'random_forest_model.pkl')\n",
    "print(\"Random forest regressor model saved successfully!\")"
   ]
  },
  {
   "cell_type": "code",
   "execution_count": 19,
   "metadata": {},
   "outputs": [
    {
     "name": "stdout",
     "output_type": "stream",
     "text": [
      "Encoder pickled successfully!\n",
      "Scaler for numerical features pickled successfully!\n",
      "Scaler for target variable pickled successfully!\n",
      "Mean Absolute Error (MAE): 0.11719363662785928\n",
      "Mean Squared Error (MSE): 0.02880799251906077\n",
      "Root Mean Squared Error (RMSE): 0.1697291740363476\n",
      "R-squared: 0.9713151387704124\n",
      "DecisionTree model pickled successfully!\n"
     ]
    }
   ],
   "source": [
    "#Final decision tree model\n",
    "category_col = ['town','flat_type','storey_range','flat_model']\n",
    "numerical_col = ['floor_area_sqm','lease_commence_date','year']\n",
    "\n",
    "#Encoding categorical data\n",
    "encoder = OneHotEncoder(sparse_output=False)\n",
    "encoded_categorical_data = encoder.fit_transform(df[category_col])\n",
    "encoded_categorical_cols = encoder.get_feature_names_out(category_col)\n",
    "encoded_categorical_df1 = pd.DataFrame(encoded_categorical_data, columns=encoded_categorical_cols)\n",
    "\n",
    "#picling the encoder\n",
    "with open('encoder.pkl', 'wb') as f:\n",
    "    # Pickle the encoder object\n",
    "    pickle.dump(encoder, f)\n",
    "\n",
    "print(\"Encoder pickled successfully!\")\n",
    "\n",
    "# Scaling numerical features\n",
    "scaler_features = StandardScaler()\n",
    "X_encoded_scaled = scaler_features.fit_transform(df[numerical_col])\n",
    "\n",
    "#pickling standard scaler\n",
    "with open('scaler_features.pkl', 'wb') as f:\n",
    "    pickle.dump(scaler_features, f)\n",
    "print(\"Scaler for numerical features pickled successfully!\")\n",
    "\n",
    "# Scaling target variable\n",
    "scaler_target = StandardScaler()\n",
    "y_scaled = scaler_target.fit_transform(df[['resale_price_log']])\n",
    "\n",
    "\n",
    "# Pickle scaler for target variable\n",
    "with open('scaler_target.pkl', 'wb') as f:\n",
    "    pickle.dump(scaler_target, f)\n",
    "print(\"Scaler for target variable pickled successfully!\")\n",
    "\n",
    "# Combine scaled numerical data with encoded categorical data\n",
    "X_encoded_combined1 = pd.concat([pd.DataFrame(X_encoded_scaled, columns=numerical_col), encoded_categorical_df1], axis=1)\n",
    "\n",
    "#splitting training and testing data\n",
    "X_train, X_test, y_train, y_test = train_test_split(X_encoded_combined1, y_scaled, test_size=0.2, random_state=42)\n",
    "\n",
    "#Decision tree regressor model\n",
    "model = DecisionTreeRegressor()\n",
    "\n",
    "# Fit the model on the training data\n",
    "model.fit(X_train, y_train)\n",
    "\n",
    "# Make predictions on the testing data\n",
    "y_pred = model.predict(X_test)\n",
    "\n",
    "# Evaluation metrics\n",
    "mae = mean_absolute_error(y_test, y_pred)\n",
    "mse = mean_squared_error(y_test, y_pred)\n",
    "rmse = np.sqrt(mse)  # Calculate root mean squared error\n",
    "r2 = r2_score(y_test, y_pred)\n",
    "\n",
    "# Print the evaluation metrics\n",
    "print(\"Mean Absolute Error (MAE):\", mae)\n",
    "print(\"Mean Squared Error (MSE):\", mse)\n",
    "print(\"Root Mean Squared Error (RMSE):\", rmse)\n",
    "print(\"R-squared:\", r2)\n",
    "\n",
    "#Pickling the model\n",
    "with open(\"decision_tree_model.pkl\", \"wb\") as f:\n",
    "    pickle.dump(model, f)\n",
    "print(\"DecisionTree model pickled successfully!\")"
   ]
  },
  {
   "cell_type": "code",
   "execution_count": 49,
   "metadata": {},
   "outputs": [],
   "source": [
    "#Compressed decision tree model file\n",
    "import gzip\n",
    "with gzip.open(\"dtm.pkl.gz\", 'wb') as f:\n",
    "  # Pickle the data and write it to the compressed file\n",
    "  pickle.dump(model, f)"
   ]
  },
  {
   "cell_type": "code",
   "execution_count": 37,
   "metadata": {},
   "outputs": [
    {
     "name": "stdout",
     "output_type": "stream",
     "text": [
      "Predicted resale price: 275000.00\n"
     ]
    },
    {
     "name": "stderr",
     "output_type": "stream",
     "text": [
      "c:\\Users\\SANGAVI\\AppData\\Local\\Programs\\Python\\Python312\\Lib\\site-packages\\sklearn\\base.py:493: UserWarning: X does not have valid feature names, but DecisionTreeRegressor was fitted with feature names\n",
      "  warnings.warn(\n"
     ]
    }
   ],
   "source": [
    "#Prediction of resale price for new data\n",
    "import pandas as pd\n",
    "import numpy as np\n",
    "import pickle\n",
    "\n",
    "# Assuming you have your new data in a DataFrame named 'new_data'\n",
    "new_data = pd.DataFrame({\n",
    "  'town':['ANG MO KIO'],\n",
    "  'flat_type':['3 ROOM'],\n",
    "  'storey_range':['07 TO 09'],\n",
    "  'flat_model':['New Generation'],\n",
    "  'floor_area_sqm':[68.0],\n",
    "  'lease_commence_date':[1981.0],\n",
    "  'year':[2015]\n",
    "})\n",
    "\n",
    "# Load the encoder, scalers, and model from pickle files\n",
    "category_col = ['town','flat_type','storey_range','flat_model']\n",
    "numerical_col = ['floor_area_sqm','lease_commence_date','year']\n",
    "\n",
    "with open('encoder.pkl', 'rb') as f:\n",
    "  encoder = pickle.load(f)\n",
    "\n",
    "with open('scaler_features.pkl', 'rb') as f:\n",
    "  scaler_features = pickle.load(f)\n",
    "\n",
    "with open('scaler_target.pkl', 'rb') as f:\n",
    "  scaler_target = pickle.load(f)\n",
    "\n",
    "with open(\"decision_tree_model.pkl\", \"rb\") as f:\n",
    "  model = pickle.load(f)\n",
    "\n",
    "# Preprocess new data (similar to the training process)\n",
    "categorical_data = new_data[category_col]\n",
    "numerical_data = new_data[numerical_col]\n",
    "\n",
    "# Encode categorical data\n",
    "encoded_categorical_data = encoder.transform(categorical_data)\n",
    "\n",
    "# Scale numerical data\n",
    "scaled_numerical_data = scaler_features.transform(numerical_data)\n",
    "\n",
    "# Combine preprocessed data\n",
    "preprocessed_data = np.concatenate((encoded_categorical_data, scaled_numerical_data), axis=1)\n",
    "\n",
    "# Predict resale price\n",
    "predicted_price = model.predict(preprocessed_data)  # Get the first prediction (assuming single data point)\n",
    "predicted_price_scaled = np.array([predicted_price])\n",
    "predicted_price_original_scale = scaler_target.inverse_transform(predicted_price_scaled)\n",
    "resale_price = np.exp(predicted_price_original_scale) \n",
    "\n",
    "\n",
    "# Print the predicted resale price\n",
    "# print(\"Predicted resale price:\", resale_price[0,0])\n",
    "print(\"Predicted resale price: {:.2f}\".format(resale_price[0, 0]))"
   ]
  },
  {
   "cell_type": "code",
   "execution_count": 159,
   "metadata": {},
   "outputs": [
    {
     "name": "stdout",
     "output_type": "stream",
     "text": [
      "town                    object\n",
      "flat_type               object\n",
      "storey_range            object\n",
      "flat_model              object\n",
      "floor_area_sqm         float64\n",
      "lease_commence_date    float64\n",
      "year                     int64\n",
      "dtype: object\n"
     ]
    }
   ],
   "source": [
    "new_data_dict = {\n",
    "    'town':['ANG MO KIO'],\n",
    "    'flat_type':['3 ROOM'],\n",
    "    'storey_range':['07 TO 09'],\n",
    "    'flat_model':['New Generation'],\n",
    "    'floor_area_sqm':[68.0],\n",
    "    'lease_commence_date':[1981.0],\n",
    "    'year':[2015]\n",
    "}\n",
    "\n",
    "# Convert the dictionary to a DataFrame\n",
    "new_data = pd.DataFrame(new_data_dict)\n",
    "print(new_data.dtypes)"
   ]
  },
  {
   "cell_type": "code",
   "execution_count": 158,
   "metadata": {},
   "outputs": [
    {
     "data": {
      "text/plain": [
       "town                    object\n",
       "flat_type               object\n",
       "storey_range            object\n",
       "floor_area_sqm         float64\n",
       "flat_model              object\n",
       "lease_commence_date    float64\n",
       "year                     int64\n",
       "resale_price_log       float64\n",
       "dtype: object"
      ]
     },
     "execution_count": 158,
     "metadata": {},
     "output_type": "execute_result"
    }
   ],
   "source": [
    "df.dtypes"
   ]
  }
 ],
 "metadata": {
  "kernelspec": {
   "display_name": "Python 3",
   "language": "python",
   "name": "python3"
  },
  "language_info": {
   "codemirror_mode": {
    "name": "ipython",
    "version": 3
   },
   "file_extension": ".py",
   "mimetype": "text/x-python",
   "name": "python",
   "nbconvert_exporter": "python",
   "pygments_lexer": "ipython3",
   "version": "3.12.2"
  }
 },
 "nbformat": 4,
 "nbformat_minor": 2
}
